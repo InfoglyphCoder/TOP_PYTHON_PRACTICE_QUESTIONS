{
 "cells": [
  {
   "cell_type": "markdown",
   "metadata": {},
   "source": [
    "# Question 1: What is a Variable in Python?"
   ]
  },
  {
   "cell_type": "code",
   "execution_count": 137,
   "metadata": {},
   "outputs": [
    {
     "name": "stdout",
     "output_type": "stream",
     "text": [
      "A Variable in Python is a name given to a memory location that stores data.\n",
      " You can assign a value to a variable using the (=) operator.\n",
      "10\n"
     ]
    }
   ],
   "source": [
    "print(\"A Variable in Python is a name given to a memory location that stores data.\\n You can assign a value to a variable using the (=) operator.\")\n",
    "x = 10  # x is a variable\n",
    "print(x)"
   ]
  },
  {
   "cell_type": "markdown",
   "metadata": {},
   "source": [
    "# Question 2: What are the rules for naming variables in Python?"
   ]
  },
  {
   "cell_type": "markdown",
   "metadata": {},
   "source": [
    "##### 1: A variable name must begin with a letter or an underscore (_), followed by letters, numbers, or underscores.\n",
    "##### 2: It cannot be a Python keyword, e.g., if, else, for, etc."
   ]
  },
  {
   "cell_type": "markdown",
   "metadata": {},
   "source": [
    "# Question 3: What is the difference between a local and global variable?"
   ]
  },
  {
   "cell_type": "markdown",
   "metadata": {},
   "source": [
    "##### --> A local variable is defined within a function and is only accessible inside that function.\n",
    "##### --> A global variable is defined outside all functions and is accessible throughout the entire code."
   ]
  },
  {
   "cell_type": "markdown",
   "metadata": {},
   "source": [
    "# Question 4: How do you assign multiple values to multiple variables in Python?"
   ]
  },
  {
   "cell_type": "code",
   "execution_count": 138,
   "metadata": {},
   "outputs": [
    {
     "name": "stdout",
     "output_type": "stream",
     "text": [
      "1 2 3\n"
     ]
    }
   ],
   "source": [
    "a, b, c = 1, 2, 3\n",
    "print(a, b, c)"
   ]
  },
  {
   "cell_type": "markdown",
   "metadata": {},
   "source": [
    "# Question 5: How can you make a variable constant in Python?"
   ]
  },
  {
   "cell_type": "code",
   "execution_count": 139,
   "metadata": {},
   "outputs": [
    {
     "name": "stdout",
     "output_type": "stream",
     "text": [
      "Python doesn’t have built-in support for constant variables.\n",
      "By convention, you can use all uppercase letters to represent constants.\n",
      "PI = 3.14159\n"
     ]
    }
   ],
   "source": [
    "print(\"Python doesn’t have built-in support for constant variables.\\nBy convention, you can use all uppercase letters to represent constants.\")\n",
    "print(\"PI = 3.14159\")"
   ]
  },
  {
   "cell_type": "markdown",
   "metadata": {},
   "source": [
    "# Question 6: What is the difference between is and == in Python?"
   ]
  },
  {
   "cell_type": "markdown",
   "metadata": {},
   "source": [
    "##### (is) --> checks whether two variables point to the same object in memory.\n",
    "##### (==) --> checks whether the values of two variables are equal."
   ]
  },
  {
   "cell_type": "markdown",
   "metadata": {},
   "source": [
    "# Question 7: How can you swap the values of two variables in Python?"
   ]
  },
  {
   "cell_type": "code",
   "execution_count": 140,
   "metadata": {},
   "outputs": [
    {
     "name": "stdout",
     "output_type": "stream",
     "text": [
      "First Process: Using a temporary variable\n",
      "30\n",
      "Second Process: Without using a temporary variable\n",
      "20 10\n"
     ]
    }
   ],
   "source": [
    "# There are two methods for this process.....\n",
    "print(\"First Process: Using a temporary variable\")\n",
    "a = 10\n",
    "b = 20\n",
    "c = a + b\n",
    "print(c)\n",
    "\n",
    "# OR\n",
    "\n",
    "print(\"Second Process: Without using a temporary variable\")\n",
    "a=10\n",
    "b=20\n",
    "a,b=b,a\n",
    "print(a,b)"
   ]
  },
  {
   "cell_type": "markdown",
   "metadata": {},
   "source": [
    "# Question 8: What does the global keyword do?"
   ]
  },
  {
   "cell_type": "markdown",
   "metadata": {},
   "source": [
    "##### The global keyword allows you to modify a global variable inside a function."
   ]
  },
  {
   "cell_type": "markdown",
   "metadata": {},
   "source": [
    "# Question 9: What is Variable Scope?"
   ]
  },
  {
   "cell_type": "markdown",
   "metadata": {},
   "source": [
    "##### Variable scope defines the context in which a variable can be accessed. Local variables are accessible only inside the function where they are defined, while global variables can be accessed anywhere in the program."
   ]
  },
  {
   "cell_type": "markdown",
   "metadata": {},
   "source": [
    "# Question 10: Can a variable name start with a number in Python?"
   ]
  },
  {
   "cell_type": "markdown",
   "metadata": {},
   "source": [
    "##### No, a variable name cannot start with a number. For example, 1x would raise a syntax error."
   ]
  },
  {
   "cell_type": "markdown",
   "metadata": {},
   "source": [
    "# Question 11: What are the rules for naming a variable in Python?"
   ]
  },
  {
   "cell_type": "markdown",
   "metadata": {},
   "source": [
    "##### A variable name must......\n",
    "##### 1. Start with a letter or an underscore.\n",
    "##### 2. Contain letters, digits, and underscores.\n",
    "##### 3. Not be a Python keyword."
   ]
  },
  {
   "cell_type": "markdown",
   "metadata": {},
   "source": [
    "# Question 12: What is the id() function in Python?"
   ]
  },
  {
   "cell_type": "code",
   "execution_count": 141,
   "metadata": {},
   "outputs": [
    {
     "name": "stdout",
     "output_type": "stream",
     "text": [
      "The id() function returns the memory address of a variable.\n",
      "140724445379288\n"
     ]
    }
   ],
   "source": [
    "print(\"The id() function returns the memory address of a variable.\")\n",
    "x = 10\n",
    "print(id(x))"
   ]
  },
  {
   "cell_type": "markdown",
   "metadata": {},
   "source": [
    "# Question 13: What happens if you try to use a variable that is not defined?"
   ]
  },
  {
   "cell_type": "markdown",
   "metadata": {},
   "source": [
    "##### It raises a NameError because Python cannot find the variable in the current scope."
   ]
  },
  {
   "cell_type": "markdown",
   "metadata": {},
   "source": [
    "# Question 14: What is type casting in Python?"
   ]
  },
  {
   "cell_type": "code",
   "execution_count": 142,
   "metadata": {},
   "outputs": [
    {
     "name": "stdout",
     "output_type": "stream",
     "text": [
      "Type casting is converting one data type into another.\n",
      " You can use built-in functions like int(), float(), str(), etc.\n",
      "10\n"
     ]
    }
   ],
   "source": [
    "print(\"Type casting is converting one data type into another.\\n You can use built-in functions like int(), float(), str(), etc.\")\n",
    "\n",
    "x = 10.5\n",
    "y = int(x)  # Converts float to int\n",
    "print(y)"
   ]
  },
  {
   "cell_type": "markdown",
   "metadata": {},
   "source": [
    "# Question 15: Can you change the type of a variable in Python?"
   ]
  },
  {
   "cell_type": "code",
   "execution_count": 143,
   "metadata": {},
   "outputs": [
    {
     "name": "stdout",
     "output_type": "stream",
     "text": [
      "Yes, Python is dynamically typed, meaning you can reassign variables to different types.\n",
      "<class 'str'>\n",
      "<class 'int'>\n"
     ]
    }
   ],
   "source": [
    "print(\"Yes, Python is dynamically typed, meaning you can reassign variables to different types.\")\n",
    "x = 10  # Integer\n",
    "x = \"Hello\"  # String\n",
    "print(type(x))\n",
    "print(type(y))"
   ]
  },
  {
   "cell_type": "markdown",
   "metadata": {},
   "source": [
    "# Question 16: Can you declare a variable inside a loop in Python?"
   ]
  },
  {
   "cell_type": "code",
   "execution_count": 144,
   "metadata": {},
   "outputs": [
    {
     "name": "stdout",
     "output_type": "stream",
     "text": [
      "Yes, variables can be declared inside loops:\n",
      "0\n",
      "1\n",
      "2\n"
     ]
    }
   ],
   "source": [
    "print(\"Yes, variables can be declared inside loops:\")\n",
    "for i in range(3):\n",
    "    x = i\n",
    "    print(x)"
   ]
  },
  {
   "cell_type": "markdown",
   "metadata": {},
   "source": [
    "# Question 17: What is Variable Shadowing in Python?"
   ]
  },
  {
   "cell_type": "code",
   "execution_count": 145,
   "metadata": {},
   "outputs": [
    {
     "name": "stdout",
     "output_type": "stream",
     "text": [
      "Variable shadowing occurs when a variable defined in a local scope has the same name as a variable in an outer scope.\n",
      " The local variable \"shadows\" the outer one.\n",
      "10\n"
     ]
    }
   ],
   "source": [
    "print(\"Variable shadowing occurs when a variable defined in a local scope has the same name as a variable in an outer scope.\\n The local variable \\\"shadows\\\" the outer one.\")\n",
    "x = 5\n",
    "def func():\n",
    "    x = 10  # Local variable shadows the global variable\n",
    "    print(x)\n",
    "func()"
   ]
  },
  {
   "cell_type": "markdown",
   "metadata": {},
   "source": [
    "# Question 18: How do you reference a global variable inside a function?"
   ]
  },
  {
   "cell_type": "code",
   "execution_count": 146,
   "metadata": {},
   "outputs": [
    {
     "name": "stdout",
     "output_type": "stream",
     "text": [
      "Use the global keyword to reference and modify a global variable inside a function.\n",
      "20\n"
     ]
    }
   ],
   "source": [
    "print(\"Use the global keyword to reference and modify a global variable inside a function.\")\n",
    "x = 10\n",
    "def modify():\n",
    "    global x\n",
    "    x = 20\n",
    "modify()\n",
    "print(x)  # Output: 20"
   ]
  },
  {
   "cell_type": "markdown",
   "metadata": {},
   "source": [
    "# Question 19: How does Python manage memory for variables?"
   ]
  },
  {
   "cell_type": "code",
   "execution_count": 147,
   "metadata": {},
   "outputs": [
    {
     "name": "stdout",
     "output_type": "stream",
     "text": [
      "Python uses an automatic garbage collector to manage memory and remove unused objects.\n"
     ]
    }
   ],
   "source": [
    "print(\"Python uses an automatic garbage collector to manage memory and remove unused objects.\")"
   ]
  },
  {
   "cell_type": "markdown",
   "metadata": {},
   "source": [
    "# Question 20: How do you check the data type of a variable in Python?"
   ]
  },
  {
   "cell_type": "code",
   "execution_count": 148,
   "metadata": {},
   "outputs": [
    {
     "name": "stdout",
     "output_type": "stream",
     "text": [
      "Use the type() function to check a variable's data type.\n",
      "<class 'int'>\n"
     ]
    }
   ],
   "source": [
    "print(\"Use the type() function to check a variable's data type.\")\n",
    "x = 10\n",
    "print(type(x))  # Output: <class 'int'>"
   ]
  },
  {
   "cell_type": "markdown",
   "metadata": {},
   "source": [
    "# Question 21: What is the use of the nonlocal keyword in Python?"
   ]
  },
  {
   "cell_type": "code",
   "execution_count": 149,
   "metadata": {},
   "outputs": [
    {
     "name": "stdout",
     "output_type": "stream",
     "text": [
      "\"nonlocal\" allows you to modify a variable from the nearest enclosing scope (but not global scope).\n",
      "20\n"
     ]
    }
   ],
   "source": [
    "print(\"\\\"nonlocal\\\" allows you to modify a variable from the nearest enclosing scope (but not global scope).\")\n",
    "def outer():\n",
    "    x = 10\n",
    "    def inner():\n",
    "        nonlocal x\n",
    "        x = 20\n",
    "    inner()\n",
    "    print(x)  # Output: 20\n",
    "outer()"
   ]
  },
  {
   "cell_type": "markdown",
   "metadata": {},
   "source": [
    "# Question 22: What is the difference between shallow copy and deep copy of variables?"
   ]
  },
  {
   "cell_type": "code",
   "execution_count": 150,
   "metadata": {},
   "outputs": [
    {
     "name": "stdout",
     "output_type": "stream",
     "text": [
      "A shallow copy copies the reference pointers, not the actual objects.\n",
      " A deep copy creates a copy of the entire object, including nested objects.\n"
     ]
    }
   ],
   "source": [
    "print(\"A shallow copy copies the reference pointers, not the actual objects.\\n A deep copy creates a copy of the entire object, including nested objects.\")\n",
    "import copy\n",
    "x = [[1, 2], [3, 4]]\n",
    "y = copy.deepcopy(x)  # Deep copy"
   ]
  },
  {
   "cell_type": "markdown",
   "metadata": {},
   "source": [
    "# Question 23: What happens when a variable is reassigned to a new object in Python?"
   ]
  },
  {
   "cell_type": "markdown",
   "metadata": {},
   "source": [
    "##### The old object’s reference count decreases, and if it’s no longer referenced, it is garbage collected."
   ]
  },
  {
   "cell_type": "markdown",
   "metadata": {},
   "source": [
    "# Question 24: How do you pass variables to functions by reference in Python?"
   ]
  },
  {
   "cell_type": "code",
   "execution_count": 151,
   "metadata": {},
   "outputs": [
    {
     "name": "stdout",
     "output_type": "stream",
     "text": [
      "Mutable objects are passed by reference, while immutable objects are passed by value.\n",
      "Lists, dictionaries, and sets are mutable.\n",
      "[1, 2, 3, 10]\n"
     ]
    }
   ],
   "source": [
    "print(\"Mutable objects are passed by reference, while immutable objects are passed by value.\\nLists, dictionaries, and sets are mutable.\")\n",
    "def modify_list(lst):\n",
    "    lst.append(10)\n",
    "x = [1, 2, 3]\n",
    "modify_list(x)\n",
    "print(x)  # Output: [1, 2, 3, 10]"
   ]
  },
  {
   "cell_type": "markdown",
   "metadata": {},
   "source": [
    "# Question 25: How do you modify a global variable from inside a function?"
   ]
  },
  {
   "cell_type": "code",
   "execution_count": 152,
   "metadata": {},
   "outputs": [
    {
     "name": "stdout",
     "output_type": "stream",
     "text": [
      "10\n"
     ]
    }
   ],
   "source": [
    "x = 5\n",
    "def change():\n",
    "    global x\n",
    "    x = 10\n",
    "change()\n",
    "print(x)  # Output: 10"
   ]
  },
  {
   "cell_type": "markdown",
   "metadata": {},
   "source": [
    "# Question 26: What is the difference between del and remove() in Python?"
   ]
  },
  {
   "cell_type": "code",
   "execution_count": 153,
   "metadata": {},
   "outputs": [
    {
     "name": "stdout",
     "output_type": "stream",
     "text": [
      "del() deletes a variable or an item by index,\n",
      "while remove() removes the first occurrence of a value in a list.\n"
     ]
    }
   ],
   "source": [
    "print(\"del() deletes a variable or an item by index,\\nwhile remove() removes the first occurrence of a value in a list.\")\n",
    "lst = [1, 2, 3]\n",
    "del lst[1]  # Deletes the second item"
   ]
  },
  {
   "cell_type": "markdown",
   "metadata": {},
   "source": [
    "# Question 27: How do you assign a default value to a variable inside a function?"
   ]
  },
  {
   "cell_type": "code",
   "execution_count": 154,
   "metadata": {},
   "outputs": [
    {
     "name": "stdout",
     "output_type": "stream",
     "text": [
      "You can assign default values to function parameters.\n",
      "Hello, John\n"
     ]
    }
   ],
   "source": [
    "print(\"You can assign default values to function parameters.\")\n",
    "def greet(name=\"John\"):\n",
    "    print(f\"Hello, {name}\")\n",
    "greet()  # Output: Hello, John"
   ]
  },
  {
   "cell_type": "markdown",
   "metadata": {},
   "source": [
    "# Question 28: What is a closure in Python?"
   ]
  },
  {
   "cell_type": "code",
   "execution_count": 155,
   "metadata": {},
   "outputs": [
    {
     "name": "stdout",
     "output_type": "stream",
     "text": [
      "A closure is a function that remembers the environment in which it was created.\n",
      "15\n"
     ]
    }
   ],
   "source": [
    "print(\"A closure is a function that remembers the environment in which it was created.\")\n",
    "def outer(x):\n",
    "    def inner(y):\n",
    "        return x + y\n",
    "    return inner\n",
    "add_five = outer(5)\n",
    "print(add_five(10))  # Output: 15"
   ]
  },
  {
   "cell_type": "markdown",
   "metadata": {},
   "source": [
    "# Question 29: How does Python handle memory management for immutable variables?"
   ]
  },
  {
   "cell_type": "markdown",
   "metadata": {},
   "source": [
    "##### Immutable variables like strings and integers are cached to optimize memory usage. This is why small integers and strings are reused."
   ]
  },
  {
   "cell_type": "markdown",
   "metadata": {},
   "source": [
    "# Question 30: What is Variable Referencing in Python?"
   ]
  },
  {
   "cell_type": "markdown",
   "metadata": {},
   "source": [
    "##### Variable referencing is when a variable is bound to an object, and that object can be referenced by multiple variables."
   ]
  },
  {
   "cell_type": "markdown",
   "metadata": {},
   "source": [
    "# Question 31: How do you use Python’s garbage collection for variable management?"
   ]
  },
  {
   "cell_type": "code",
   "execution_count": 156,
   "metadata": {},
   "outputs": [
    {
     "name": "stdout",
     "output_type": "stream",
     "text": [
      "Python automatically manages memory using garbage collection to free up memory by removing unused objects.\n"
     ]
    }
   ],
   "source": [
    "print(\"Python automatically manages memory using garbage collection to free up memory by removing unused objects.\")"
   ]
  },
  {
   "cell_type": "markdown",
   "metadata": {},
   "source": [
    "# Question 32: What is Variable Unpacking in Python?"
   ]
  },
  {
   "cell_type": "code",
   "execution_count": 157,
   "metadata": {},
   "outputs": [
    {
     "name": "stdout",
     "output_type": "stream",
     "text": [
      "Variable unpacking is used to assign values to multiple variables from iterables like lists or tuples.\n"
     ]
    }
   ],
   "source": [
    "print(\"Variable unpacking is used to assign values to multiple variables from iterables like lists or tuples.\")\n",
    "a, b = [1, 2]"
   ]
  },
  {
   "cell_type": "markdown",
   "metadata": {},
   "source": [
    "# Question 33: How do you bind a variable to a new value in Python?"
   ]
  },
  {
   "cell_type": "code",
   "execution_count": 158,
   "metadata": {},
   "outputs": [],
   "source": [
    "x = 10\n",
    "x = 20"
   ]
  },
  {
   "cell_type": "markdown",
   "metadata": {},
   "source": [
    "# Question 34: What is an alias in Python?"
   ]
  },
  {
   "cell_type": "code",
   "execution_count": 159,
   "metadata": {},
   "outputs": [
    {
     "name": "stdout",
     "output_type": "stream",
     "text": [
      "An alias is when two or more variables refer to the same object.\n"
     ]
    }
   ],
   "source": [
    "print(\"An alias is when two or more variables refer to the same object.\")\n",
    "x = [1, 2, 3]\n",
    "y = x  # y is an alias of x"
   ]
  },
  {
   "cell_type": "markdown",
   "metadata": {},
   "source": [
    "# Question 35: How do you create a read-only variable in Python?"
   ]
  },
  {
   "cell_type": "code",
   "execution_count": 160,
   "metadata": {},
   "outputs": [
    {
     "name": "stdout",
     "output_type": "stream",
     "text": [
      "Python doesn’t have built-in support for read-only variables,\n",
      "but you can use properties or make variables immutable by using namedtuple or custom classes.\n"
     ]
    }
   ],
   "source": [
    "print(\"Python doesn’t have built-in support for read-only variables,\\nbut you can use properties or make variables immutable by using namedtuple or custom classes.\")"
   ]
  },
  {
   "cell_type": "markdown",
   "metadata": {},
   "source": [
    "# Question 36: How do you manage memory efficiently when working with variables?"
   ]
  },
  {
   "cell_type": "code",
   "execution_count": 161,
   "metadata": {},
   "outputs": [
    {
     "name": "stdout",
     "output_type": "stream",
     "text": [
      "Use generators and iterators to work with large data efficiently, and avoid unnecessary copies of objects.\n"
     ]
    }
   ],
   "source": [
    "print(\"Use generators and iterators to work with large data efficiently, and avoid unnecessary copies of objects.\")"
   ]
  },
  {
   "cell_type": "markdown",
   "metadata": {},
   "source": [
    "# Question 37: What is the difference between int and float in terms of variables?"
   ]
  },
  {
   "cell_type": "code",
   "execution_count": 162,
   "metadata": {},
   "outputs": [
    {
     "name": "stdout",
     "output_type": "stream",
     "text": [
      "\"int\" is used for whole numbers, and float is used for decimal numbers.\n"
     ]
    }
   ],
   "source": [
    "print(\"\\\"int\\\" is used for whole numbers, and float is used for decimal numbers.\")\n",
    "x = 10  # int\n",
    "y = 10.5  # float"
   ]
  },
  {
   "cell_type": "markdown",
   "metadata": {},
   "source": [
    "# Question38: How do you deal with circular references in Python variables?"
   ]
  },
  {
   "cell_type": "code",
   "execution_count": 163,
   "metadata": {},
   "outputs": [
    {
     "name": "stdout",
     "output_type": "stream",
     "text": [
      "Circular references occur when objects refer to each other,\n",
      "which can cause memory leaks. Python’s garbage collector handles this.\n"
     ]
    }
   ],
   "source": [
    "print(\"Circular references occur when objects refer to each other,\\nwhich can cause memory leaks. Python’s garbage collector handles this.\")"
   ]
  },
  {
   "cell_type": "markdown",
   "metadata": {},
   "source": [
    "# Question 39:  What is a Dynamic Variable in Python?"
   ]
  },
  {
   "cell_type": "code",
   "execution_count": 164,
   "metadata": {},
   "outputs": [
    {
     "name": "stdout",
     "output_type": "stream",
     "text": [
      "In Python, variables are dynamic, meaning their type can change during runtime based on the value assigned to them.\n"
     ]
    }
   ],
   "source": [
    "print(\"In Python, variables are dynamic, meaning their type can change during runtime based on the value assigned to them.\")\n",
    "x = 10      # Integer\n",
    "x = \"text\"  # Now a string"
   ]
  },
  {
   "cell_type": "markdown",
   "metadata": {},
   "source": [
    "# Question 40: How can you declare multiple variables in one line with the same value?"
   ]
  },
  {
   "cell_type": "code",
   "execution_count": 165,
   "metadata": {},
   "outputs": [
    {
     "name": "stdout",
     "output_type": "stream",
     "text": [
      "0 0 0\n"
     ]
    }
   ],
   "source": [
    "x = y = z = 0  # Assigning the same value to multiple variables\n",
    "print(x, y, z)"
   ]
  },
  {
   "cell_type": "markdown",
   "metadata": {},
   "source": [
    "# Question 41: Can a global variable be accessed in a nested function?"
   ]
  },
  {
   "cell_type": "code",
   "execution_count": 166,
   "metadata": {},
   "outputs": [
    {
     "name": "stdout",
     "output_type": "stream",
     "text": [
      "Yes, but it must be explicitly declared as global inside the function if you intend to modify it.\n",
      "10\n"
     ]
    }
   ],
   "source": [
    "print(\"Yes, but it must be explicitly declared as global inside the function if you intend to modify it.\")\n",
    "x = 5\n",
    "def outer():\n",
    "    def inner():\n",
    "        global x\n",
    "        x = 10\n",
    "    inner()\n",
    "outer()\n",
    "print(x)  # Output: 10"
   ]
  },
  {
   "cell_type": "markdown",
   "metadata": {},
   "source": [
    "# Question 42: How does Python handle large integers in variables?"
   ]
  },
  {
   "cell_type": "code",
   "execution_count": 167,
   "metadata": {},
   "outputs": [
    {
     "name": "stdout",
     "output_type": "stream",
     "text": [
      "Python supports arbitrary-precision integers,\n",
      "meaning the size of integers is limited only by the available memory.\n"
     ]
    }
   ],
   "source": [
    "print(\"Python supports arbitrary-precision integers,\\nmeaning the size of integers is limited only by the available memory.\")"
   ]
  },
  {
   "cell_type": "markdown",
   "metadata": {},
   "source": [
    "# Question 43: What is variable aliasing in Python?"
   ]
  },
  {
   "cell_type": "code",
   "execution_count": 168,
   "metadata": {},
   "outputs": [
    {
     "name": "stdout",
     "output_type": "stream",
     "text": [
      "Aliasing occurs when two or more variables refer to the same memory location.\n",
      "[1, 2, 3, 4]\n"
     ]
    }
   ],
   "source": [
    "print(\"Aliasing occurs when two or more variables refer to the same memory location.\")\n",
    "a = [1, 2, 3]\n",
    "b = a\n",
    "b.append(4)\n",
    "print(a)  # Output: [1, 2, 3, 4]"
   ]
  },
  {
   "cell_type": "markdown",
   "metadata": {},
   "source": [
    "# Question 44: What is variable interpolation in Python?"
   ]
  },
  {
   "cell_type": "code",
   "execution_count": 169,
   "metadata": {},
   "outputs": [
    {
     "name": "stdout",
     "output_type": "stream",
     "text": [
      "Variable interpolation is embedding variables in strings using methods like f-strings.\n",
      "Hello, Alice\n"
     ]
    }
   ],
   "source": [
    "print(\"Variable interpolation is embedding variables in strings using methods like f-strings.\")\n",
    "name = \"Alice\"\n",
    "print(f\"Hello, {name}\")  # Output: Hello, Alice"
   ]
  },
  {
   "cell_type": "markdown",
   "metadata": {},
   "source": [
    "# Question 45: Write a program to check if a variable is mutable or immutable."
   ]
  },
  {
   "cell_type": "code",
   "execution_count": 170,
   "metadata": {},
   "outputs": [
    {
     "name": "stdout",
     "output_type": "stream",
     "text": [
      "Immutable\n"
     ]
    }
   ],
   "source": [
    "x = 10\n",
    "try:\n",
    "    x[0] = 5\n",
    "    print(\"Mutable\")\n",
    "except TypeError:\n",
    "    print(\"Immutable\")  # Output: Immutable"
   ]
  },
  {
   "cell_type": "markdown",
   "metadata": {},
   "source": [
    "# Question 46: Can you store a function in a variable?"
   ]
  },
  {
   "cell_type": "code",
   "execution_count": 171,
   "metadata": {},
   "outputs": [
    {
     "name": "stdout",
     "output_type": "stream",
     "text": [
      "Yes, Python allows we to assign a function to a variable.\n",
      "Hello\n"
     ]
    }
   ],
   "source": [
    "print(\"Yes, Python allows we to assign a function to a variable.\")\n",
    "def greet():\n",
    "    return \"Hello\"\n",
    "func = greet\n",
    "print(func())  # Output: Hello"
   ]
  },
  {
   "cell_type": "markdown",
   "metadata": {},
   "source": [
    "# Question 47:  What is a temporary variable in Python?"
   ]
  },
  {
   "cell_type": "code",
   "execution_count": 172,
   "metadata": {},
   "outputs": [
    {
     "name": "stdout",
     "output_type": "stream",
     "text": [
      "A temporary variable is used to store data temporarily during execution, such as for swapping values.\n"
     ]
    }
   ],
   "source": [
    "print(\"A temporary variable is used to store data temporarily during execution, such as for swapping values.\")"
   ]
  },
  {
   "cell_type": "markdown",
   "metadata": {},
   "source": [
    "# Question 48: What is Variable Unpacking?"
   ]
  },
  {
   "cell_type": "code",
   "execution_count": 173,
   "metadata": {},
   "outputs": [
    {
     "name": "stdout",
     "output_type": "stream",
     "text": [
      "Variable unpacking is extracting elements from iterables into variables.\n",
      "1 2 3\n"
     ]
    }
   ],
   "source": [
    "print(\"Variable unpacking is extracting elements from iterables into variables.\")\n",
    "x, y, z = [1, 2, 3]\n",
    "print(x, y, z)  # Output: 1 2 3"
   ]
  },
  {
   "cell_type": "markdown",
   "metadata": {},
   "source": [
    "# Question 49: How does Python handle string variables?"
   ]
  },
  {
   "cell_type": "code",
   "execution_count": 174,
   "metadata": {},
   "outputs": [
    {
     "name": "stdout",
     "output_type": "stream",
     "text": [
      "Strings in Python are immutable, meaning once created, they cannot be modified.\n",
      "Any operation creates a new string.\n"
     ]
    }
   ],
   "source": [
    "print(\"Strings in Python are immutable, meaning once created, they cannot be modified.\\nAny operation creates a new string.\")"
   ]
  },
  {
   "cell_type": "markdown",
   "metadata": {},
   "source": [
    "# Question 50: What is a sentinel variable in Python?"
   ]
  },
  {
   "cell_type": "code",
   "execution_count": 175,
   "metadata": {},
   "outputs": [
    {
     "name": "stdout",
     "output_type": "stream",
     "text": [
      "A sentinel variable is used as a condition to terminate a loop or block of code.\n"
     ]
    }
   ],
   "source": [
    "print(\"A sentinel variable is used as a condition to terminate a loop or block of code.\")\n",
    "sentinel = -1\n",
    "while True:\n",
    "    user_input = input(\"Enter a number: \")\n",
    "    if user_input == '':\n",
    "        continue\n",
    "    x = int(user_input)\n",
    "    if x == sentinel:\n",
    "        break"
   ]
  },
  {
   "cell_type": "markdown",
   "metadata": {},
   "source": [
    "# Question 51: What is a symbolic variable in Python?"
   ]
  },
  {
   "cell_type": "code",
   "execution_count": 176,
   "metadata": {},
   "outputs": [
    {
     "name": "stdout",
     "output_type": "stream",
     "text": [
      "Symbolic variables are used in libraries like SymPy for symbolic mathematics.\n"
     ]
    }
   ],
   "source": [
    "print(\"Symbolic variables are used in libraries like SymPy for symbolic mathematics.\")\n",
    "from sympy import symbols\n",
    "x = symbols('x')"
   ]
  },
  {
   "cell_type": "markdown",
   "metadata": {},
   "source": [
    "# Question 52: Can a variable name in Python contain special characters?"
   ]
  },
  {
   "cell_type": "code",
   "execution_count": 177,
   "metadata": {},
   "outputs": [
    {
     "name": "stdout",
     "output_type": "stream",
     "text": [
      "No, except for underscores _.\n"
     ]
    }
   ],
   "source": [
    "print(\"No, except for underscores _.\")"
   ]
  },
  {
   "cell_type": "markdown",
   "metadata": {},
   "source": [
    "# Question 53: Can you pass variables as arguments to a function?"
   ]
  },
  {
   "cell_type": "code",
   "execution_count": 178,
   "metadata": {},
   "outputs": [
    {
     "name": "stdout",
     "output_type": "stream",
     "text": [
      "Yes, variables can be passed by value or by reference depending on their type (immutable or mutable).\n",
      "[1, 2, 3, 4]\n"
     ]
    }
   ],
   "source": [
    "print(\"Yes, variables can be passed by value or by reference depending on their type (immutable or mutable).\")\n",
    "def modify(lst):\n",
    "    lst.append(4)\n",
    "x = [1, 2, 3]\n",
    "modify(x)\n",
    "print(x)  # Output: [1, 2, 3, 4]"
   ]
  },
  {
   "cell_type": "markdown",
   "metadata": {},
   "source": [
    "# Question 54: How do you remove a variable in Python?"
   ]
  },
  {
   "cell_type": "code",
   "execution_count": 179,
   "metadata": {},
   "outputs": [
    {
     "name": "stdout",
     "output_type": "stream",
     "text": [
      "Use the del keyword:\n"
     ]
    },
    {
     "ename": "NameError",
     "evalue": "name 'x' is not defined",
     "output_type": "error",
     "traceback": [
      "\u001b[1;31m---------------------------------------------------------------------------\u001b[0m",
      "\u001b[1;31mNameError\u001b[0m                                 Traceback (most recent call last)",
      "Cell \u001b[1;32mIn[179], line 4\u001b[0m\n\u001b[0;32m      2\u001b[0m x \u001b[38;5;241m=\u001b[39m \u001b[38;5;241m10\u001b[39m\n\u001b[0;32m      3\u001b[0m \u001b[38;5;28;01mdel\u001b[39;00m x\n\u001b[1;32m----> 4\u001b[0m \u001b[38;5;28mprint\u001b[39m(\u001b[43mx\u001b[49m)  \u001b[38;5;66;03m# Raises NameError\u001b[39;00m\n",
      "\u001b[1;31mNameError\u001b[0m: name 'x' is not defined"
     ]
    }
   ],
   "source": [
    "print(\"Use the del keyword:\")\n",
    "x = 10\n",
    "del x\n",
    "print(x)  # Raises NameError"
   ]
  },
  {
   "cell_type": "markdown",
   "metadata": {},
   "source": [
    "# Question 55: What is the difference between a class variable and an instance variable?"
   ]
  },
  {
   "cell_type": "code",
   "execution_count": 136,
   "metadata": {},
   "outputs": [
    {
     "name": "stdout",
     "output_type": "stream",
     "text": [
      "Class variable: Shared across all instances.\n",
      "Instance variable: Unique to each instance.\n"
     ]
    }
   ],
   "source": [
    "print(\"Class variable: Shared across all instances.\")\n",
    "print(\"Instance variable: Unique to each instance.\")"
   ]
  },
  {
   "cell_type": "markdown",
   "metadata": {},
   "source": [
    "# Question 56: Write a program to demonstrate class and instance variables."
   ]
  },
  {
   "cell_type": "code",
   "execution_count": 180,
   "metadata": {},
   "outputs": [
    {
     "name": "stdout",
     "output_type": "stream",
     "text": [
      "10\n",
      "20\n"
     ]
    }
   ],
   "source": [
    "class Test:\n",
    "    class_var = 10  # Class variable\n",
    "\n",
    "    def __init__(self):\n",
    "        self.instance_var = 20  # Instance variable\n",
    "\n",
    "obj = Test()\n",
    "print(Test.class_var)  # Accessing class variable\n",
    "print(obj.instance_var)  # Accessing instance variable"
   ]
  },
  {
   "cell_type": "markdown",
   "metadata": {},
   "source": [
    "# Question 57: Write a program to swap three variables."
   ]
  },
  {
   "cell_type": "code",
   "execution_count": null,
   "metadata": {},
   "outputs": [],
   "source": []
  }
 ],
 "metadata": {
  "kernelspec": {
   "display_name": "Python 3",
   "language": "python",
   "name": "python3"
  },
  "language_info": {
   "codemirror_mode": {
    "name": "ipython",
    "version": 3
   },
   "file_extension": ".py",
   "mimetype": "text/x-python",
   "name": "python",
   "nbconvert_exporter": "python",
   "pygments_lexer": "ipython3",
   "version": "3.12.4"
  }
 },
 "nbformat": 4,
 "nbformat_minor": 2
}
