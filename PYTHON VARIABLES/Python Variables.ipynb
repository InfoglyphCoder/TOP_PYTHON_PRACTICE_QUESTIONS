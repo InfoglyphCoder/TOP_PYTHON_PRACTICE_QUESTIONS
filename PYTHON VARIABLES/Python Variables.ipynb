{
 "cells": [
  {
   "cell_type": "markdown",
   "metadata": {},
   "source": [
    "# Question 1: What is a Variable in Python?"
   ]
  },
  {
   "cell_type": "code",
   "execution_count": 5,
   "metadata": {},
   "outputs": [
    {
     "name": "stdout",
     "output_type": "stream",
     "text": [
      "A Variable in Python is a name given to a memory location that stores data.\n",
      " You can assign a value to a variable using the (=) operator.\n",
      "10\n"
     ]
    }
   ],
   "source": [
    "print(\"A Variable in Python is a name given to a memory location that stores data.\\n You can assign a value to a variable using the (=) operator.\")\n",
    "x = 10  # x is a variable\n",
    "print(x)"
   ]
  },
  {
   "cell_type": "markdown",
   "metadata": {},
   "source": [
    "# Question 2: What are the rules for naming variables in Python?"
   ]
  },
  {
   "cell_type": "markdown",
   "metadata": {},
   "source": [
    "##### 1: A variable name must begin with a letter or an underscore (_), followed by letters, numbers, or underscores.\n",
    "##### 2: It cannot be a Python keyword, e.g., if, else, for, etc."
   ]
  },
  {
   "cell_type": "markdown",
   "metadata": {},
   "source": [
    "# Question 3: What is the difference between a local and global variable?"
   ]
  },
  {
   "cell_type": "markdown",
   "metadata": {},
   "source": [
    "##### --> A local variable is defined within a function and is only accessible inside that function.\n",
    "##### --> A global variable is defined outside all functions and is accessible throughout the entire code."
   ]
  },
  {
   "cell_type": "markdown",
   "metadata": {},
   "source": [
    "# Question 4: How do you assign multiple values to multiple variables in Python?"
   ]
  },
  {
   "cell_type": "code",
   "execution_count": 7,
   "metadata": {},
   "outputs": [
    {
     "name": "stdout",
     "output_type": "stream",
     "text": [
      "1 2 3\n"
     ]
    }
   ],
   "source": [
    "a, b, c = 1, 2, 3\n",
    "print(a, b, c)"
   ]
  },
  {
   "cell_type": "markdown",
   "metadata": {},
   "source": [
    "# Question 5: How can you make a variable constant in Python?"
   ]
  },
  {
   "cell_type": "code",
   "execution_count": 43,
   "metadata": {},
   "outputs": [
    {
     "name": "stdout",
     "output_type": "stream",
     "text": [
      "Python doesn’t have built-in support for constant variables.\n",
      "By convention, you can use all uppercase letters to represent constants.\n",
      "PI = 3.14159\n"
     ]
    }
   ],
   "source": [
    "print(\"Python doesn’t have built-in support for constant variables.\\nBy convention, you can use all uppercase letters to represent constants.\")\n",
    "print(\"PI = 3.14159\")"
   ]
  },
  {
   "cell_type": "markdown",
   "metadata": {},
   "source": [
    "# Question 6: What is the difference between is and == in Python?"
   ]
  },
  {
   "cell_type": "markdown",
   "metadata": {},
   "source": [
    "##### (is) --> checks whether two variables point to the same object in memory.\n",
    "##### (==) --> checks whether the values of two variables are equal."
   ]
  },
  {
   "cell_type": "markdown",
   "metadata": {},
   "source": [
    "# Question 7: How can you swap the values of two variables in Python?"
   ]
  },
  {
   "cell_type": "code",
   "execution_count": 11,
   "metadata": {},
   "outputs": [
    {
     "name": "stdout",
     "output_type": "stream",
     "text": [
      "First Process: Using a temporary variable\n",
      "30\n",
      "Second Process: Without using a temporary variable\n",
      "20 10\n"
     ]
    }
   ],
   "source": [
    "# There are two methods for this process.....\n",
    "print(\"First Process: Using a temporary variable\")\n",
    "a = 10\n",
    "b = 20\n",
    "c = a + b\n",
    "print(c)\n",
    "\n",
    "# OR\n",
    "\n",
    "print(\"Second Process: Without using a temporary variable\")\n",
    "a=10\n",
    "b=20\n",
    "a,b=b,a\n",
    "print(a,b)"
   ]
  },
  {
   "cell_type": "markdown",
   "metadata": {},
   "source": [
    "# Question 8: What does the global keyword do?"
   ]
  },
  {
   "cell_type": "markdown",
   "metadata": {},
   "source": [
    "##### The global keyword allows you to modify a global variable inside a function."
   ]
  },
  {
   "cell_type": "markdown",
   "metadata": {},
   "source": [
    "# Question 9: What is Variable Scope?"
   ]
  },
  {
   "cell_type": "markdown",
   "metadata": {},
   "source": [
    "##### Variable scope defines the context in which a variable can be accessed. Local variables are accessible only inside the function where they are defined, while global variables can be accessed anywhere in the program."
   ]
  },
  {
   "cell_type": "markdown",
   "metadata": {},
   "source": [
    "# Question 10: Can a variable name start with a number in Python?"
   ]
  },
  {
   "cell_type": "markdown",
   "metadata": {},
   "source": [
    "##### No, a variable name cannot start with a number. For example, 1x would raise a syntax error."
   ]
  },
  {
   "cell_type": "markdown",
   "metadata": {},
   "source": [
    "# Question 11: What are the rules for naming a variable in Python?"
   ]
  },
  {
   "cell_type": "markdown",
   "metadata": {},
   "source": [
    "##### A variable name must......\n",
    "##### 1. Start with a letter or an underscore.\n",
    "##### 2. Contain letters, digits, and underscores.\n",
    "##### 3. Not be a Python keyword."
   ]
  },
  {
   "cell_type": "markdown",
   "metadata": {},
   "source": [
    "# Question 12: What is the id() function in Python?"
   ]
  },
  {
   "cell_type": "code",
   "execution_count": 12,
   "metadata": {},
   "outputs": [
    {
     "name": "stdout",
     "output_type": "stream",
     "text": [
      "The id() function returns the memory address of a variable.\n",
      "140723584826072\n"
     ]
    }
   ],
   "source": [
    "print(\"The id() function returns the memory address of a variable.\")\n",
    "x = 10\n",
    "print(id(x))"
   ]
  },
  {
   "cell_type": "markdown",
   "metadata": {},
   "source": [
    "# Question 13: What happens if you try to use a variable that is not defined?"
   ]
  },
  {
   "cell_type": "markdown",
   "metadata": {},
   "source": [
    "##### It raises a NameError because Python cannot find the variable in the current scope."
   ]
  },
  {
   "cell_type": "markdown",
   "metadata": {},
   "source": [
    "# Question 14: What is type casting in Python?"
   ]
  },
  {
   "cell_type": "code",
   "execution_count": 14,
   "metadata": {},
   "outputs": [
    {
     "name": "stdout",
     "output_type": "stream",
     "text": [
      "Type casting is converting one data type into another.\n",
      " You can use built-in functions like int(), float(), str(), etc.\n",
      "10\n"
     ]
    }
   ],
   "source": [
    "print(\"Type casting is converting one data type into another.\\n You can use built-in functions like int(), float(), str(), etc.\")\n",
    "\n",
    "x = 10.5\n",
    "y = int(x)  # Converts float to int\n",
    "print(y)"
   ]
  },
  {
   "cell_type": "markdown",
   "metadata": {},
   "source": [
    "# Question 15: Can you change the type of a variable in Python?"
   ]
  },
  {
   "cell_type": "code",
   "execution_count": 15,
   "metadata": {},
   "outputs": [
    {
     "name": "stdout",
     "output_type": "stream",
     "text": [
      "Yes, Python is dynamically typed, meaning you can reassign variables to different types.\n",
      "<class 'str'>\n",
      "<class 'int'>\n"
     ]
    }
   ],
   "source": [
    "print(\"Yes, Python is dynamically typed, meaning you can reassign variables to different types.\")\n",
    "x = 10  # Integer\n",
    "x = \"Hello\"  # String\n",
    "print(type(x))\n",
    "print(type(y))"
   ]
  },
  {
   "cell_type": "markdown",
   "metadata": {},
   "source": [
    "# Question 16: Can you declare a variable inside a loop in Python?"
   ]
  },
  {
   "cell_type": "code",
   "execution_count": 21,
   "metadata": {},
   "outputs": [
    {
     "name": "stdout",
     "output_type": "stream",
     "text": [
      "Yes, variables can be declared inside loops:\n",
      "0\n",
      "1\n",
      "2\n"
     ]
    }
   ],
   "source": [
    "print(\"Yes, variables can be declared inside loops:\")\n",
    "for i in range(3):\n",
    "    x = i\n",
    "    print(x)"
   ]
  },
  {
   "cell_type": "markdown",
   "metadata": {},
   "source": [
    "# Question 17: What is Variable Shadowing in Python?"
   ]
  },
  {
   "cell_type": "code",
   "execution_count": 20,
   "metadata": {},
   "outputs": [
    {
     "name": "stdout",
     "output_type": "stream",
     "text": [
      "Variable shadowing occurs when a variable defined in a local scope has the same name as a variable in an outer scope.\n",
      " The local variable \"shadows\" the outer one.\n",
      "10\n"
     ]
    }
   ],
   "source": [
    "print(\"Variable shadowing occurs when a variable defined in a local scope has the same name as a variable in an outer scope.\\n The local variable \\\"shadows\\\" the outer one.\")\n",
    "x = 5\n",
    "def func():\n",
    "    x = 10  # Local variable shadows the global variable\n",
    "    print(x)\n",
    "func()"
   ]
  },
  {
   "cell_type": "markdown",
   "metadata": {},
   "source": [
    "# Question 18: How do you reference a global variable inside a function?"
   ]
  },
  {
   "cell_type": "code",
   "execution_count": 23,
   "metadata": {},
   "outputs": [
    {
     "name": "stdout",
     "output_type": "stream",
     "text": [
      "Use the global keyword to reference and modify a global variable inside a function.\n",
      "20\n"
     ]
    }
   ],
   "source": [
    "print(\"Use the global keyword to reference and modify a global variable inside a function.\")\n",
    "x = 10\n",
    "def modify():\n",
    "    global x\n",
    "    x = 20\n",
    "modify()\n",
    "print(x)  # Output: 20"
   ]
  },
  {
   "cell_type": "markdown",
   "metadata": {},
   "source": [
    "# Question 19: How does Python manage memory for variables?"
   ]
  },
  {
   "cell_type": "code",
   "execution_count": 25,
   "metadata": {},
   "outputs": [
    {
     "name": "stdout",
     "output_type": "stream",
     "text": [
      "Python uses an automatic garbage collector to manage memory and remove unused objects.\n"
     ]
    }
   ],
   "source": [
    "print(\"Python uses an automatic garbage collector to manage memory and remove unused objects.\")"
   ]
  },
  {
   "cell_type": "markdown",
   "metadata": {},
   "source": [
    "# Question 20: How do you check the data type of a variable in Python?"
   ]
  },
  {
   "cell_type": "code",
   "execution_count": 26,
   "metadata": {},
   "outputs": [
    {
     "name": "stdout",
     "output_type": "stream",
     "text": [
      "Use the type() function to check a variable's data type.\n",
      "<class 'int'>\n"
     ]
    }
   ],
   "source": [
    "print(\"Use the type() function to check a variable's data type.\")\n",
    "x = 10\n",
    "print(type(x))  # Output: <class 'int'>"
   ]
  },
  {
   "cell_type": "markdown",
   "metadata": {},
   "source": [
    "# Question 21: What is the use of the nonlocal keyword in Python?"
   ]
  },
  {
   "cell_type": "code",
   "execution_count": 29,
   "metadata": {},
   "outputs": [
    {
     "name": "stdout",
     "output_type": "stream",
     "text": [
      "\"nonlocal\" allows you to modify a variable from the nearest enclosing scope (but not global scope).\n",
      "20\n"
     ]
    }
   ],
   "source": [
    "print(\"\\\"nonlocal\\\" allows you to modify a variable from the nearest enclosing scope (but not global scope).\")\n",
    "def outer():\n",
    "    x = 10\n",
    "    def inner():\n",
    "        nonlocal x\n",
    "        x = 20\n",
    "    inner()\n",
    "    print(x)  # Output: 20\n",
    "outer()"
   ]
  },
  {
   "cell_type": "markdown",
   "metadata": {},
   "source": [
    "# Question 22: What is the difference between shallow copy and deep copy of variables?"
   ]
  },
  {
   "cell_type": "code",
   "execution_count": 32,
   "metadata": {},
   "outputs": [
    {
     "name": "stdout",
     "output_type": "stream",
     "text": [
      "A shallow copy copies the reference pointers, not the actual objects.\n",
      " A deep copy creates a copy of the entire object, including nested objects.\n"
     ]
    }
   ],
   "source": [
    "print(\"A shallow copy copies the reference pointers, not the actual objects.\\n A deep copy creates a copy of the entire object, including nested objects.\")\n",
    "import copy\n",
    "x = [[1, 2], [3, 4]]\n",
    "y = copy.deepcopy(x)  # Deep copy"
   ]
  },
  {
   "cell_type": "markdown",
   "metadata": {},
   "source": [
    "# Question 23: What happens when a variable is reassigned to a new object in Python?"
   ]
  },
  {
   "cell_type": "markdown",
   "metadata": {},
   "source": [
    "##### The old object’s reference count decreases, and if it’s no longer referenced, it is garbage collected."
   ]
  },
  {
   "cell_type": "markdown",
   "metadata": {},
   "source": [
    "# Question 24: How do you pass variables to functions by reference in Python?"
   ]
  },
  {
   "cell_type": "code",
   "execution_count": 35,
   "metadata": {},
   "outputs": [
    {
     "name": "stdout",
     "output_type": "stream",
     "text": [
      "Mutable objects are passed by reference, while immutable objects are passed by value.\n",
      "Lists, dictionaries, and sets are mutable.\n",
      "[1, 2, 3, 10]\n"
     ]
    }
   ],
   "source": [
    "print(\"Mutable objects are passed by reference, while immutable objects are passed by value.\\nLists, dictionaries, and sets are mutable.\")\n",
    "def modify_list(lst):\n",
    "    lst.append(10)\n",
    "x = [1, 2, 3]\n",
    "modify_list(x)\n",
    "print(x)  # Output: [1, 2, 3, 10]"
   ]
  },
  {
   "cell_type": "markdown",
   "metadata": {},
   "source": [
    "# Question 25: How do you modify a global variable from inside a function?"
   ]
  },
  {
   "cell_type": "code",
   "execution_count": 36,
   "metadata": {},
   "outputs": [
    {
     "name": "stdout",
     "output_type": "stream",
     "text": [
      "10\n"
     ]
    }
   ],
   "source": [
    "x = 5\n",
    "def change():\n",
    "    global x\n",
    "    x = 10\n",
    "change()\n",
    "print(x)  # Output: 10"
   ]
  },
  {
   "cell_type": "markdown",
   "metadata": {},
   "source": [
    "# Question 26: What is the difference between del and remove() in Python?"
   ]
  },
  {
   "cell_type": "code",
   "execution_count": 41,
   "metadata": {},
   "outputs": [
    {
     "name": "stdout",
     "output_type": "stream",
     "text": [
      "del() deletes a variable or an item by index,\n",
      "while remove() removes the first occurrence of a value in a list.\n"
     ]
    }
   ],
   "source": [
    "print(\"del() deletes a variable or an item by index,\\nwhile remove() removes the first occurrence of a value in a list.\")\n",
    "lst = [1, 2, 3]\n",
    "del lst[1]  # Deletes the second item"
   ]
  },
  {
   "cell_type": "markdown",
   "metadata": {},
   "source": [
    "# Question 27: How do you assign a default value to a variable inside a function?"
   ]
  },
  {
   "cell_type": "code",
   "execution_count": 45,
   "metadata": {},
   "outputs": [
    {
     "name": "stdout",
     "output_type": "stream",
     "text": [
      "You can assign default values to function parameters.\n",
      "Hello, John\n"
     ]
    }
   ],
   "source": [
    "print(\"You can assign default values to function parameters.\")\n",
    "def greet(name=\"John\"):\n",
    "    print(f\"Hello, {name}\")\n",
    "greet()  # Output: Hello, John"
   ]
  },
  {
   "cell_type": "markdown",
   "metadata": {},
   "source": [
    "# Question 28: What is a closure in Python?"
   ]
  },
  {
   "cell_type": "code",
   "execution_count": 46,
   "metadata": {},
   "outputs": [
    {
     "name": "stdout",
     "output_type": "stream",
     "text": [
      "A closure is a function that remembers the environment in which it was created.\n",
      "15\n"
     ]
    }
   ],
   "source": [
    "print(\"A closure is a function that remembers the environment in which it was created.\")\n",
    "def outer(x):\n",
    "    def inner(y):\n",
    "        return x + y\n",
    "    return inner\n",
    "add_five = outer(5)\n",
    "print(add_five(10))  # Output: 15"
   ]
  },
  {
   "cell_type": "markdown",
   "metadata": {},
   "source": [
    "# Question 29: How does Python handle memory management for immutable variables?"
   ]
  },
  {
   "cell_type": "markdown",
   "metadata": {},
   "source": [
    "##### Immutable variables like strings and integers are cached to optimize memory usage. This is why small integers and strings are reused."
   ]
  },
  {
   "cell_type": "markdown",
   "metadata": {},
   "source": [
    "# Question 30: What is Variable Referencing in Python?"
   ]
  },
  {
   "cell_type": "markdown",
   "metadata": {},
   "source": [
    "##### Variable referencing is when a variable is bound to an object, and that object can be referenced by multiple variables."
   ]
  },
  {
   "cell_type": "code",
   "execution_count": null,
   "metadata": {},
   "outputs": [],
   "source": []
  }
 ],
 "metadata": {
  "kernelspec": {
   "display_name": "Python 3",
   "language": "python",
   "name": "python3"
  },
  "language_info": {
   "codemirror_mode": {
    "name": "ipython",
    "version": 3
   },
   "file_extension": ".py",
   "mimetype": "text/x-python",
   "name": "python",
   "nbconvert_exporter": "python",
   "pygments_lexer": "ipython3",
   "version": "3.12.4"
  }
 },
 "nbformat": 4,
 "nbformat_minor": 2
}
